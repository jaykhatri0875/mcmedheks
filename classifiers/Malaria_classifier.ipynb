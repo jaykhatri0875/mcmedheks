{
  "nbformat": 4,
  "nbformat_minor": 0,
  "metadata": {
    "colab": {
      "name": "Malaria-dataset.ipynb",
      "provenance": []
    },
    "kernelspec": {
      "name": "python3",
      "display_name": "Python 3"
    },
    "language_info": {
      "name": "python"
    },
    "accelerator": "GPU"
  },
  "cells": [
    {
      "cell_type": "code",
      "metadata": {
        "id": "E4IqMJemdXtb"
      },
      "source": [
        ""
      ],
      "execution_count": null,
      "outputs": []
    },
    {
      "cell_type": "code",
      "metadata": {
        "id": "naKFQsLP3pGx"
      },
      "source": [
        "import matplotlib\n",
        "matplotlib.use(\"Agg\")\n",
        "# import the necessary packages\n",
        "from tensorflow.keras.preprocessing.image import ImageDataGenerator\n",
        "from tensorflow.keras.callbacks import LearningRateScheduler\n",
        "from tensorflow.keras.optimizers import SGD\n",
        "from tensorflow.keras.applications.resnet50 import ResNet50\n",
        "from tensorflow.keras.preprocessing import image\n",
        "from tensorflow.keras.applications.resnet50 import preprocess_input, decode_predictions\n",
        "from sklearn.metrics import classification_report\n",
        "from imutils import paths\n",
        "import matplotlib.pyplot as plt\n",
        "import numpy as np"
      ],
      "execution_count": 1,
      "outputs": []
    },
    {
      "cell_type": "code",
      "metadata": {
        "colab": {
          "base_uri": "https://localhost:8080/"
        },
        "id": "yogvq0Ce7L2d",
        "outputId": "3b564a5d-40fc-4c4f-def8-ccefff0afb8b"
      },
      "source": [
        "from google.colab import drive\n",
        "drive.mount('/content/drive')"
      ],
      "execution_count": 2,
      "outputs": [
        {
          "output_type": "stream",
          "text": [
            "Drive already mounted at /content/drive; to attempt to forcibly remount, call drive.mount(\"/content/drive\", force_remount=True).\n"
          ],
          "name": "stdout"
        }
      ]
    },
    {
      "cell_type": "code",
      "metadata": {
        "id": "rgrWZyLG7Yr2"
      },
      "source": [
        "import os\n",
        "try:\n",
        "    os.mkdir('/tmp/cell-images1')\n",
        "    os.mkdir('/tmp/cell-images1/training')\n",
        "    os.mkdir('/tmp/cell-images1/training/parasitized')\n",
        "    os.mkdir('/tmp/cell-images1/training/uninfected')\n",
        "    os.mkdir('/tmp/cell-images1/training-T')\n",
        "    os.mkdir('/tmp/cell-images1/training-T/parasitized')\n",
        "    os.mkdir('/tmp/cell-images1/training-T/uninfected')\n",
        "    os.mkdir('/tmp/cell-images1/validation')\n",
        "    os.mkdir('/tmp/cell-images1/validation/parasitized')\n",
        "    os.mkdir('/tmp/cell-images1/validation/uninfected')\n",
        "    os.mkdir('/tmp/cell-images1/testing')\n",
        "    os.mkdir('/tmp/cell-images1/testing/parasitized')\n",
        "    os.mkdir('/tmp/cell-images1/testing/uninfected')\n",
        "    #YOUR CODE GOES HERE\n",
        "except OSError:\n",
        "    print(\"Error\")\n",
        "    pass\n",
        "\n"
      ],
      "execution_count": 23,
      "outputs": []
    },
    {
      "cell_type": "code",
      "metadata": {
        "id": "T_mggyk3-Hs7"
      },
      "source": [
        "import random\n",
        "from shutil import copyfile\n",
        "def split_data(SOURCE, TRAINING, TESTING,SPLIT_SIZE):\n",
        "    x=0\n",
        "    y=os.listdir(SOURCE)[0:10000]\n",
        "    random.sample(y,len(y))\n",
        "    for i in y:\n",
        "      final=os.path.join(SOURCE,i)\n",
        "      if x<(SPLIT_SIZE)*len(y):\n",
        "        copy=os.path.join(TRAINING,i)\n",
        "        if os.path.getsize(final)==0:\n",
        "          print(str(i)+\" is zero length, so ignoring\")\n",
        "        else:\n",
        "          copyfile(final,copy)\n",
        "      else:\n",
        "        copy=os.path.join(TESTING,i)\n",
        "        if os.path.getsize(final)==0:\n",
        "          print(str(i)+\" is zero length, so ignoring\")\n",
        "        else:\n",
        "          copyfile(final,copy)\n",
        "      x=x+1\n",
        "\n",
        "P_SOURCE_DIR = \"/content/drive/MyDrive/cell_images/Parasitized\"\n",
        "TRAINING_P_DIR = '/tmp/cell-images1/training/parasitized'\n",
        "TRAINING_PS_DIR = '/tmp/cell-images1/training-T/parasitized'\n",
        "TESTING_P_DIR = '/tmp/cell-images1/testing/parasitized'\n",
        "VALIDATION_P_DIR = '/tmp/cell-images1/validation/parasitized'\n",
        "U_SOURCE_DIR = \"/content/drive/MyDrive/cell_images/Uninfected\"\n",
        "TRAINING_US_DIR = '/tmp/cell-images1/training-T/uninfected'\n",
        "TRAINING_U_DIR = '/tmp/cell-images1/training/uninfected'\n",
        "TESTING_U_DIR = '/tmp/cell-images1/testing/uninfected'\n",
        "VALIDATION_U_DIR= '/tmp/cell-images1/validation/uninfected'\n",
        "\n",
        "\n",
        "split_size = .8\n",
        "split_data(P_SOURCE_DIR, TRAINING_PS_DIR, TESTING_P_DIR,split_size)\n",
        "split_data(U_SOURCE_DIR, TRAINING_US_DIR, TESTING_U_DIR,split_size)\n",
        "split_data(TRAINING_PS_DIR, TRAINING_P_DIR, VALIDATION_P_DIR,split_size)\n",
        "split_data(TRAINING_US_DIR, TRAINING_U_DIR, VALIDATION_U_DIR,split_size)\n",
        "\n"
      ],
      "execution_count": 24,
      "outputs": []
    },
    {
      "cell_type": "code",
      "metadata": {
        "id": "_TO_LTiu5RaH"
      },
      "source": [
        "NUM_EPOCHS = 50\n",
        "INIT_LR = 1e-1\n",
        "BS = 32\n",
        "def poly_decay(epoch):\n",
        "\tmaxEpochs = NUM_EPOCHS\n",
        "\tbaseLR = INIT_LR\n",
        "\tpower = 1.0\n",
        "\talpha = baseLR * (1 - (epoch / float(maxEpochs))) ** power\n",
        "\treturn alpha"
      ],
      "execution_count": 25,
      "outputs": []
    },
    {
      "cell_type": "code",
      "metadata": {
        "id": "Yx-OBQPJFH9m"
      },
      "source": [
        "!rm -rf /tmp/cell-images1"
      ],
      "execution_count": 22,
      "outputs": []
    },
    {
      "cell_type": "code",
      "metadata": {
        "id": "YtX7nzKE5dDN"
      },
      "source": [
        "trainAug = ImageDataGenerator(\n",
        "\trescale=1 / 255.0,\n",
        "\trotation_range=20,\n",
        "\tzoom_range=0.05,\n",
        "\twidth_shift_range=0.05,\n",
        "\theight_shift_range=0.05,\n",
        "\tshear_range=0.05,\n",
        "\thorizontal_flip=True,\n",
        "\tfill_mode=\"nearest\")\n",
        "\n",
        "\n",
        "valAug = ImageDataGenerator(rescale=1 / 255.0)"
      ],
      "execution_count": 26,
      "outputs": []
    },
    {
      "cell_type": "code",
      "metadata": {
        "colab": {
          "base_uri": "https://localhost:8080/"
        },
        "id": "ZRUSzvTF5mZu",
        "outputId": "dcb20a44-8177-4fbb-9bf6-4085e9a34f98"
      },
      "source": [
        "trainGen = trainAug.flow_from_directory(\n",
        "\t\"/tmp/cell-images1/training\",\n",
        "\tclass_mode=\"categorical\",\n",
        "\ttarget_size=(64, 64),\n",
        "\tcolor_mode=\"rgb\",\n",
        "\tshuffle=True,\n",
        "\tbatch_size=BS)\n",
        "# initialize the validation generator\n",
        "valGen = valAug.flow_from_directory(\n",
        "\t\"/tmp/cell-images1/validation\",\n",
        "\tclass_mode=\"categorical\",\n",
        "\ttarget_size=(64, 64),\n",
        "\tcolor_mode=\"rgb\",\n",
        "\tshuffle=False,\n",
        "\tbatch_size=BS)\n",
        "# initialize the testing generator\n",
        "testGen = valAug.flow_from_directory(\n",
        "\t\"/tmp/cell-images1/testing\",\n",
        "\tclass_mode=\"categorical\",\n",
        "\ttarget_size=(64, 64),\n",
        "\tcolor_mode=\"rgb\",\n",
        "\tshuffle=False,\n",
        "\tbatch_size=BS)"
      ],
      "execution_count": 27,
      "outputs": [
        {
          "output_type": "stream",
          "text": [
            "Found 12798 images belonging to 2 classes.\n",
            "Found 3200 images belonging to 2 classes.\n",
            "Found 4000 images belonging to 2 classes.\n"
          ],
          "name": "stdout"
        }
      ]
    },
    {
      "cell_type": "code",
      "metadata": {
        "colab": {
          "base_uri": "https://localhost:8080/"
        },
        "id": "Z5f4aDgnA7ge",
        "outputId": "eff86c27-1bf1-4250-a154-d88fc8d9c057"
      },
      "source": [
        "model = ResNet50(weights=None,classes=2)\n",
        "opt = SGD(lr=INIT_LR, momentum=0.9)\n",
        "model.compile(loss=\"categorical_crossentropy\", optimizer=opt,\tmetrics=[\"accuracy\"])"
      ],
      "execution_count": 28,
      "outputs": [
        {
          "output_type": "stream",
          "text": [
            "/usr/local/lib/python3.7/dist-packages/tensorflow/python/keras/optimizer_v2/optimizer_v2.py:375: UserWarning: The `lr` argument is deprecated, use `learning_rate` instead.\n",
            "  \"The `lr` argument is deprecated, use `learning_rate` instead.\")\n"
          ],
          "name": "stderr"
        }
      ]
    },
    {
      "cell_type": "code",
      "metadata": {
        "id": "X2JaUv-fBoyd",
        "colab": {
          "base_uri": "https://localhost:8080/"
        },
        "outputId": "1e893f97-69c1-4132-861d-ce99b0b84a72"
      },
      "source": [
        "callbacks = [LearningRateScheduler(poly_decay)]\n",
        "totalTrain=len(os.listdir(\"/tmp/cell-images1/training/parasitized\")) + len(os.listdir(\"/tmp/cell-images1/training/uninfected\"))\n",
        "totalVal=len(os.listdir(\"/tmp/cell-images1/validation/parasitized\")) + len(os.listdir(\"/tmp/cell-images1/validation/uninfected\"))\n",
        "print(totalTrain)\n",
        "H = model.fit(\n",
        "          \tx=trainGen,\n",
        "            steps_per_epoch=totalTrain // BS,\n",
        "\t          validation_data=valGen,\n",
        "\t          validation_steps=totalVal // BS,\n",
        "\t          epochs=50,\n",
        "            callbacks=callbacks)"
      ],
      "execution_count": 30,
      "outputs": [
        {
          "output_type": "stream",
          "text": [
            "12800\n",
            "Epoch 1/50\n",
            "400/400 [==============================] - 43s 107ms/step - loss: 0.3677 - accuracy: 0.8534 - val_loss: 0.3655 - val_accuracy: 0.8750\n",
            "Epoch 2/50\n",
            "400/400 [==============================] - 43s 108ms/step - loss: 0.3770 - accuracy: 0.8544 - val_loss: 0.4467 - val_accuracy: 0.9159\n",
            "Epoch 3/50\n",
            "400/400 [==============================] - 44s 111ms/step - loss: 0.2569 - accuracy: 0.9012 - val_loss: 0.2641 - val_accuracy: 0.9319\n",
            "Epoch 4/50\n",
            "400/400 [==============================] - 43s 107ms/step - loss: 0.2320 - accuracy: 0.9146 - val_loss: 0.2665 - val_accuracy: 0.9369\n",
            "Epoch 5/50\n",
            "400/400 [==============================] - 45s 112ms/step - loss: 0.2128 - accuracy: 0.9230 - val_loss: 0.2306 - val_accuracy: 0.9441\n",
            "Epoch 6/50\n",
            "400/400 [==============================] - 42s 106ms/step - loss: 0.1970 - accuracy: 0.9317 - val_loss: 0.2534 - val_accuracy: 0.9463\n",
            "Epoch 7/50\n",
            "400/400 [==============================] - 44s 110ms/step - loss: 0.1932 - accuracy: 0.9315 - val_loss: 0.4403 - val_accuracy: 0.9131\n",
            "Epoch 8/50\n",
            "400/400 [==============================] - 43s 109ms/step - loss: 0.1846 - accuracy: 0.9356 - val_loss: 0.2085 - val_accuracy: 0.9475\n",
            "Epoch 9/50\n",
            "400/400 [==============================] - 43s 106ms/step - loss: 0.1735 - accuracy: 0.9399 - val_loss: 0.1866 - val_accuracy: 0.9491\n",
            "Epoch 10/50\n",
            "400/400 [==============================] - 44s 111ms/step - loss: 0.1665 - accuracy: 0.9420 - val_loss: 0.1728 - val_accuracy: 0.9531\n",
            "Epoch 11/50\n",
            "400/400 [==============================] - 44s 109ms/step - loss: 0.1626 - accuracy: 0.9441 - val_loss: 0.1901 - val_accuracy: 0.9503\n",
            "Epoch 12/50\n",
            "400/400 [==============================] - 43s 108ms/step - loss: 0.1567 - accuracy: 0.9458 - val_loss: 0.1875 - val_accuracy: 0.9544\n",
            "Epoch 13/50\n",
            "400/400 [==============================] - 45s 112ms/step - loss: 0.1568 - accuracy: 0.9458 - val_loss: 0.2002 - val_accuracy: 0.9528\n",
            "Epoch 14/50\n",
            "400/400 [==============================] - 43s 108ms/step - loss: 0.1531 - accuracy: 0.9484 - val_loss: 0.1867 - val_accuracy: 0.9544\n",
            "Epoch 15/50\n",
            "400/400 [==============================] - 43s 108ms/step - loss: 0.1530 - accuracy: 0.9483 - val_loss: 0.1530 - val_accuracy: 0.9550\n",
            "Epoch 16/50\n",
            "400/400 [==============================] - 42s 106ms/step - loss: 0.1487 - accuracy: 0.9493 - val_loss: 0.1838 - val_accuracy: 0.9494\n",
            "Epoch 17/50\n",
            "400/400 [==============================] - 44s 109ms/step - loss: 0.1458 - accuracy: 0.9499 - val_loss: 0.1880 - val_accuracy: 0.9559\n",
            "Epoch 18/50\n",
            "400/400 [==============================] - 44s 110ms/step - loss: 0.1439 - accuracy: 0.9496 - val_loss: 0.1852 - val_accuracy: 0.9569\n",
            "Epoch 19/50\n",
            "400/400 [==============================] - 42s 105ms/step - loss: 0.1398 - accuracy: 0.9526 - val_loss: 0.1349 - val_accuracy: 0.9575\n",
            "Epoch 20/50\n",
            "400/400 [==============================] - 45s 113ms/step - loss: 0.1386 - accuracy: 0.9522 - val_loss: 0.1915 - val_accuracy: 0.9603\n",
            "Epoch 21/50\n",
            "400/400 [==============================] - 43s 107ms/step - loss: 0.1345 - accuracy: 0.9555 - val_loss: 0.1733 - val_accuracy: 0.9603\n",
            "Epoch 22/50\n",
            "400/400 [==============================] - 44s 110ms/step - loss: 0.1338 - accuracy: 0.9552 - val_loss: 0.1780 - val_accuracy: 0.9588\n",
            "Epoch 23/50\n",
            "400/400 [==============================] - 43s 107ms/step - loss: 0.1286 - accuracy: 0.9565 - val_loss: 0.1491 - val_accuracy: 0.9519\n",
            "Epoch 24/50\n",
            "400/400 [==============================] - 43s 108ms/step - loss: 0.1255 - accuracy: 0.9573 - val_loss: 0.1916 - val_accuracy: 0.9584\n",
            "Epoch 25/50\n",
            "400/400 [==============================] - 45s 112ms/step - loss: 0.1256 - accuracy: 0.9581 - val_loss: 0.1466 - val_accuracy: 0.9566\n",
            "Epoch 26/50\n",
            "400/400 [==============================] - 43s 108ms/step - loss: 0.1274 - accuracy: 0.9554 - val_loss: 0.1709 - val_accuracy: 0.9606\n",
            "Epoch 27/50\n",
            "400/400 [==============================] - 44s 109ms/step - loss: 0.1246 - accuracy: 0.9593 - val_loss: 0.1664 - val_accuracy: 0.9597\n",
            "Epoch 28/50\n",
            "400/400 [==============================] - 44s 110ms/step - loss: 0.1224 - accuracy: 0.9576 - val_loss: 0.1761 - val_accuracy: 0.9606\n",
            "Epoch 29/50\n",
            "400/400 [==============================] - 44s 110ms/step - loss: 0.1216 - accuracy: 0.9579 - val_loss: 0.1745 - val_accuracy: 0.9622\n",
            "Epoch 30/50\n",
            "400/400 [==============================] - 44s 109ms/step - loss: 0.1186 - accuracy: 0.9612 - val_loss: 0.1424 - val_accuracy: 0.9622\n",
            "Epoch 31/50\n",
            "400/400 [==============================] - 42s 105ms/step - loss: 0.1227 - accuracy: 0.9592 - val_loss: 0.1454 - val_accuracy: 0.9597\n",
            "Epoch 32/50\n",
            "400/400 [==============================] - 44s 110ms/step - loss: 0.1207 - accuracy: 0.9602 - val_loss: 0.1723 - val_accuracy: 0.9606\n",
            "Epoch 33/50\n",
            "400/400 [==============================] - 44s 109ms/step - loss: 0.1181 - accuracy: 0.9591 - val_loss: 0.1700 - val_accuracy: 0.9584\n",
            "Epoch 34/50\n",
            "400/400 [==============================] - 43s 106ms/step - loss: 0.1202 - accuracy: 0.9605 - val_loss: 0.1646 - val_accuracy: 0.9616\n",
            "Epoch 35/50\n",
            "400/400 [==============================] - 44s 111ms/step - loss: 0.1140 - accuracy: 0.9615 - val_loss: 0.1284 - val_accuracy: 0.9613\n",
            "Epoch 36/50\n",
            "400/400 [==============================] - 43s 108ms/step - loss: 0.1153 - accuracy: 0.9612 - val_loss: 0.1569 - val_accuracy: 0.9613\n",
            "Epoch 37/50\n",
            "400/400 [==============================] - 44s 110ms/step - loss: 0.1103 - accuracy: 0.9626 - val_loss: 0.1512 - val_accuracy: 0.9625\n",
            "Epoch 38/50\n",
            "400/400 [==============================] - 42s 106ms/step - loss: 0.1103 - accuracy: 0.9615 - val_loss: 0.1675 - val_accuracy: 0.9606\n",
            "Epoch 39/50\n",
            "400/400 [==============================] - 44s 110ms/step - loss: 0.1124 - accuracy: 0.9630 - val_loss: 0.1557 - val_accuracy: 0.9628\n",
            "Epoch 40/50\n",
            "400/400 [==============================] - 44s 110ms/step - loss: 0.1091 - accuracy: 0.9634 - val_loss: 0.1513 - val_accuracy: 0.9603\n",
            "Epoch 41/50\n",
            "400/400 [==============================] - 43s 107ms/step - loss: 0.1090 - accuracy: 0.9625 - val_loss: 0.1320 - val_accuracy: 0.9619\n",
            "Epoch 42/50\n",
            "400/400 [==============================] - 44s 110ms/step - loss: 0.1093 - accuracy: 0.9633 - val_loss: 0.1442 - val_accuracy: 0.9622\n",
            "Epoch 43/50\n",
            "400/400 [==============================] - 44s 111ms/step - loss: 0.1096 - accuracy: 0.9637 - val_loss: 0.1482 - val_accuracy: 0.9619\n",
            "Epoch 44/50\n",
            "400/400 [==============================] - 44s 111ms/step - loss: 0.1089 - accuracy: 0.9627 - val_loss: 0.1382 - val_accuracy: 0.9619\n",
            "Epoch 45/50\n",
            "400/400 [==============================] - 43s 108ms/step - loss: 0.1057 - accuracy: 0.9637 - val_loss: 0.1479 - val_accuracy: 0.9628\n",
            "Epoch 46/50\n",
            "400/400 [==============================] - 43s 108ms/step - loss: 0.1026 - accuracy: 0.9644 - val_loss: 0.1369 - val_accuracy: 0.9609\n",
            "Epoch 47/50\n",
            "400/400 [==============================] - 44s 111ms/step - loss: 0.1032 - accuracy: 0.9634 - val_loss: 0.1394 - val_accuracy: 0.9641\n",
            "Epoch 48/50\n",
            "400/400 [==============================] - 43s 108ms/step - loss: 0.1029 - accuracy: 0.9646 - val_loss: 0.1408 - val_accuracy: 0.9634\n",
            "Epoch 49/50\n",
            "400/400 [==============================] - 43s 108ms/step - loss: 0.0982 - accuracy: 0.9661 - val_loss: 0.1500 - val_accuracy: 0.9650\n",
            "Epoch 50/50\n",
            "400/400 [==============================] - 44s 111ms/step - loss: 0.0978 - accuracy: 0.9660 - val_loss: 0.1311 - val_accuracy: 0.9647\n"
          ],
          "name": "stdout"
        }
      ]
    },
    {
      "cell_type": "code",
      "metadata": {
        "id": "35hPbZrKCfAD",
        "colab": {
          "base_uri": "https://localhost:8080/"
        },
        "outputId": "60019b1e-5114-45de-ceb7-d6acede15541"
      },
      "source": [
        "totalTest=len(os.listdir(\"/tmp/cell-images/testing\"))\n",
        "testGen.reset()\n",
        "predIdxs = model.predict(x=testGen)\n",
        "predIdxs = np.argmax(predIdxs, axis=1)\n",
        "print(classification_report(testGen.classes, predIdxs,\ttarget_names=testGen.class_indices.keys()))\n"
      ],
      "execution_count": 31,
      "outputs": [
        {
          "output_type": "stream",
          "text": [
            "              precision    recall  f1-score   support\n",
            "\n",
            " parasitized       0.94      0.90      0.92      2000\n",
            "  uninfected       0.90      0.94      0.92      2000\n",
            "\n",
            "    accuracy                           0.92      4000\n",
            "   macro avg       0.92      0.92      0.92      4000\n",
            "weighted avg       0.92      0.92      0.92      4000\n",
            "\n"
          ],
          "name": "stdout"
        }
      ]
    },
    {
      "cell_type": "code",
      "metadata": {
        "id": "nLNQ-A7eCfKh",
        "colab": {
          "base_uri": "https://localhost:8080/"
        },
        "outputId": "f1dc56be-c01b-4e25-e26e-dac64ba80cb8"
      },
      "source": [
        "model.save(\"malaria-detection-model.h5\")"
      ],
      "execution_count": 32,
      "outputs": [
        {
          "output_type": "stream",
          "text": [
            "/usr/local/lib/python3.7/dist-packages/tensorflow/python/keras/utils/generic_utils.py:497: CustomMaskWarning: Custom mask layers require a config and must override get_config. When loading, the custom mask layer must be passed to the custom_objects argument.\n",
            "  category=CustomMaskWarning)\n"
          ],
          "name": "stderr"
        }
      ]
    },
    {
      "cell_type": "code",
      "metadata": {
        "colab": {
          "base_uri": "https://localhost:8080/"
        },
        "id": "GNLyR8CtHHZM",
        "outputId": "43eef268-318d-4ea4-d67e-f139c1f46f2b"
      },
      "source": [
        ""
      ],
      "execution_count": 33,
      "outputs": [
        {
          "output_type": "stream",
          "text": [
            "/content\n"
          ],
          "name": "stdout"
        }
      ]
    }
  ]
}